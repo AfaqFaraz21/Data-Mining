{
 "cells": [
  {
   "cell_type": "markdown",
   "metadata": {},
   "source": [
    "### Take Test: WEEK 5: FRIDAY LAB 04\n",
    " "
   ]
  },
  {
   "cell_type": "code",
   "execution_count": 19,
   "metadata": {},
   "outputs": [
    {
     "data": {
      "text/html": [
       "<div>\n",
       "<style scoped>\n",
       "    .dataframe tbody tr th:only-of-type {\n",
       "        vertical-align: middle;\n",
       "    }\n",
       "\n",
       "    .dataframe tbody tr th {\n",
       "        vertical-align: top;\n",
       "    }\n",
       "\n",
       "    .dataframe thead th {\n",
       "        text-align: right;\n",
       "    }\n",
       "</style>\n",
       "<table border=\"1\" class=\"dataframe\">\n",
       "  <thead>\n",
       "    <tr style=\"text-align: right;\">\n",
       "      <th></th>\n",
       "      <th>ID</th>\n",
       "      <th>Name</th>\n",
       "      <th>Sex</th>\n",
       "      <th>Age</th>\n",
       "      <th>Height</th>\n",
       "      <th>Weight</th>\n",
       "      <th>Team</th>\n",
       "      <th>NOC</th>\n",
       "      <th>Games</th>\n",
       "      <th>Year</th>\n",
       "      <th>Season</th>\n",
       "      <th>City</th>\n",
       "      <th>Sport</th>\n",
       "      <th>Event</th>\n",
       "      <th>Medal</th>\n",
       "    </tr>\n",
       "  </thead>\n",
       "  <tbody>\n",
       "    <tr>\n",
       "      <th>0</th>\n",
       "      <td>1</td>\n",
       "      <td>A Dijiang</td>\n",
       "      <td>M</td>\n",
       "      <td>24.0</td>\n",
       "      <td>180.0</td>\n",
       "      <td>80.0</td>\n",
       "      <td>China</td>\n",
       "      <td>CHN</td>\n",
       "      <td>1992 Summer</td>\n",
       "      <td>1992</td>\n",
       "      <td>Summer</td>\n",
       "      <td>Barcelona</td>\n",
       "      <td>Basketball</td>\n",
       "      <td>Basketball Men's Basketball</td>\n",
       "      <td>NaN</td>\n",
       "    </tr>\n",
       "    <tr>\n",
       "      <th>1</th>\n",
       "      <td>2</td>\n",
       "      <td>A Lamusi</td>\n",
       "      <td>M</td>\n",
       "      <td>23.0</td>\n",
       "      <td>170.0</td>\n",
       "      <td>60.0</td>\n",
       "      <td>China</td>\n",
       "      <td>CHN</td>\n",
       "      <td>2012 Summer</td>\n",
       "      <td>2012</td>\n",
       "      <td>Summer</td>\n",
       "      <td>London</td>\n",
       "      <td>Judo</td>\n",
       "      <td>Judo Men's Extra-Lightweight</td>\n",
       "      <td>NaN</td>\n",
       "    </tr>\n",
       "    <tr>\n",
       "      <th>2</th>\n",
       "      <td>3</td>\n",
       "      <td>Gunnar Nielsen Aaby</td>\n",
       "      <td>M</td>\n",
       "      <td>24.0</td>\n",
       "      <td>NaN</td>\n",
       "      <td>NaN</td>\n",
       "      <td>Denmark</td>\n",
       "      <td>DEN</td>\n",
       "      <td>1920 Summer</td>\n",
       "      <td>1920</td>\n",
       "      <td>Summer</td>\n",
       "      <td>Antwerpen</td>\n",
       "      <td>Football</td>\n",
       "      <td>Football Men's Football</td>\n",
       "      <td>NaN</td>\n",
       "    </tr>\n",
       "    <tr>\n",
       "      <th>3</th>\n",
       "      <td>4</td>\n",
       "      <td>Edgar Lindenau Aabye</td>\n",
       "      <td>M</td>\n",
       "      <td>34.0</td>\n",
       "      <td>NaN</td>\n",
       "      <td>NaN</td>\n",
       "      <td>Denmark/Sweden</td>\n",
       "      <td>DEN</td>\n",
       "      <td>1900 Summer</td>\n",
       "      <td>1900</td>\n",
       "      <td>Summer</td>\n",
       "      <td>Paris</td>\n",
       "      <td>Tug-Of-War</td>\n",
       "      <td>Tug-Of-War Men's Tug-Of-War</td>\n",
       "      <td>Gold</td>\n",
       "    </tr>\n",
       "    <tr>\n",
       "      <th>4</th>\n",
       "      <td>5</td>\n",
       "      <td>Christine Jacoba Aaftink</td>\n",
       "      <td>F</td>\n",
       "      <td>21.0</td>\n",
       "      <td>185.0</td>\n",
       "      <td>82.0</td>\n",
       "      <td>Netherlands</td>\n",
       "      <td>NED</td>\n",
       "      <td>1988 Winter</td>\n",
       "      <td>1988</td>\n",
       "      <td>Winter</td>\n",
       "      <td>Calgary</td>\n",
       "      <td>Speed Skating</td>\n",
       "      <td>Speed Skating Women's 500 metres</td>\n",
       "      <td>NaN</td>\n",
       "    </tr>\n",
       "  </tbody>\n",
       "</table>\n",
       "</div>"
      ],
      "text/plain": [
       "   ID                      Name Sex   Age  Height  Weight            Team  \\\n",
       "0   1                 A Dijiang   M  24.0   180.0    80.0           China   \n",
       "1   2                  A Lamusi   M  23.0   170.0    60.0           China   \n",
       "2   3       Gunnar Nielsen Aaby   M  24.0     NaN     NaN         Denmark   \n",
       "3   4      Edgar Lindenau Aabye   M  34.0     NaN     NaN  Denmark/Sweden   \n",
       "4   5  Christine Jacoba Aaftink   F  21.0   185.0    82.0     Netherlands   \n",
       "\n",
       "   NOC        Games  Year  Season       City          Sport  \\\n",
       "0  CHN  1992 Summer  1992  Summer  Barcelona     Basketball   \n",
       "1  CHN  2012 Summer  2012  Summer     London           Judo   \n",
       "2  DEN  1920 Summer  1920  Summer  Antwerpen       Football   \n",
       "3  DEN  1900 Summer  1900  Summer      Paris     Tug-Of-War   \n",
       "4  NED  1988 Winter  1988  Winter    Calgary  Speed Skating   \n",
       "\n",
       "                              Event Medal  \n",
       "0       Basketball Men's Basketball   NaN  \n",
       "1      Judo Men's Extra-Lightweight   NaN  \n",
       "2           Football Men's Football   NaN  \n",
       "3       Tug-Of-War Men's Tug-Of-War  Gold  \n",
       "4  Speed Skating Women's 500 metres   NaN  "
      ]
     },
     "execution_count": 19,
     "metadata": {},
     "output_type": "execute_result"
    }
   ],
   "source": [
    "import numpy as np\n",
    "import pandas as pd \n",
    "import matplotlib.pyplot as plt\n",
    "from scipy import spatial\n",
    "import statsmodels.api as sm\n",
    "from statsmodels.formula.api import ols\n",
    "\n",
    "from sklearn import linear_model\n",
    "from sklearn.preprocessing import LabelEncoder, OneHotEncoder\n",
    "\n",
    "#Reading in the Olympic history: athletes and results  as olympic and results dataframe\n",
    "olympic = pd.read_csv('archive/athlete_events.csv')\n",
    "\n",
    "\n",
    "#Verifying that we can see the data\n",
    "olympic.head()"
   ]
  },
  {
   "cell_type": "code",
   "execution_count": 20,
   "metadata": {},
   "outputs": [
    {
     "name": "stdout",
     "output_type": "stream",
     "text": [
      "<class 'pandas.core.frame.DataFrame'>\n",
      "RangeIndex: 271116 entries, 0 to 271115\n",
      "Data columns (total 15 columns):\n",
      " #   Column  Non-Null Count   Dtype  \n",
      "---  ------  --------------   -----  \n",
      " 0   ID      271116 non-null  int64  \n",
      " 1   Name    271116 non-null  object \n",
      " 2   Sex     271116 non-null  object \n",
      " 3   Age     261642 non-null  float64\n",
      " 4   Height  210945 non-null  float64\n",
      " 5   Weight  208241 non-null  float64\n",
      " 6   Team    271116 non-null  object \n",
      " 7   NOC     271116 non-null  object \n",
      " 8   Games   271116 non-null  object \n",
      " 9   Year    271116 non-null  int64  \n",
      " 10  Season  271116 non-null  object \n",
      " 11  City    271116 non-null  object \n",
      " 12  Sport   271116 non-null  object \n",
      " 13  Event   271116 non-null  object \n",
      " 14  Medal   39783 non-null   object \n",
      "dtypes: float64(3), int64(2), object(10)\n",
      "memory usage: 20.7+ MB\n"
     ]
    }
   ],
   "source": [
    "olympic.info()"
   ]
  },
  {
   "cell_type": "markdown",
   "metadata": {},
   "source": [
    "1. Select one dependent variable in the dataset. This will be your target variable for the remainder of this lab. Explain how and why you have selected that particular target variable in no less than 3 sentences."
   ]
  },
  {
   "cell_type": "markdown",
   "metadata": {},
   "source": [
    "The Chosen dependant value is the medal. Medal represent the various achievements of the athletes on the various sports through the various sports. It allows for the prediction of the Medal types."
   ]
  },
  {
   "cell_type": "markdown",
   "metadata": {},
   "source": [
    "2. Determine what correlations there are among independent variables (= predictors) in the dataset by setting up a correlation table.  Explain in at least 2 sentences what correlations your analysis is showing and if any predictor variables appear to be correlated to one another"
   ]
  },
  {
   "cell_type": "code",
   "execution_count": 21,
   "metadata": {},
   "outputs": [
    {
     "data": {
      "text/html": [
       "<div>\n",
       "<style scoped>\n",
       "    .dataframe tbody tr th:only-of-type {\n",
       "        vertical-align: middle;\n",
       "    }\n",
       "\n",
       "    .dataframe tbody tr th {\n",
       "        vertical-align: top;\n",
       "    }\n",
       "\n",
       "    .dataframe thead th {\n",
       "        text-align: right;\n",
       "    }\n",
       "</style>\n",
       "<table border=\"1\" class=\"dataframe\">\n",
       "  <thead>\n",
       "    <tr style=\"text-align: right;\">\n",
       "      <th></th>\n",
       "      <th>ID</th>\n",
       "      <th>Age</th>\n",
       "      <th>Height</th>\n",
       "      <th>Weight</th>\n",
       "      <th>Year</th>\n",
       "    </tr>\n",
       "  </thead>\n",
       "  <tbody>\n",
       "    <tr>\n",
       "      <th>ID</th>\n",
       "      <td>1.000000</td>\n",
       "      <td>-0.003631</td>\n",
       "      <td>-0.011141</td>\n",
       "      <td>-0.009176</td>\n",
       "      <td>0.011885</td>\n",
       "    </tr>\n",
       "    <tr>\n",
       "      <th>Age</th>\n",
       "      <td>-0.003631</td>\n",
       "      <td>1.000000</td>\n",
       "      <td>0.138246</td>\n",
       "      <td>0.212069</td>\n",
       "      <td>-0.115137</td>\n",
       "    </tr>\n",
       "    <tr>\n",
       "      <th>Height</th>\n",
       "      <td>-0.011141</td>\n",
       "      <td>0.138246</td>\n",
       "      <td>1.000000</td>\n",
       "      <td>0.796213</td>\n",
       "      <td>0.047578</td>\n",
       "    </tr>\n",
       "    <tr>\n",
       "      <th>Weight</th>\n",
       "      <td>-0.009176</td>\n",
       "      <td>0.212069</td>\n",
       "      <td>0.796213</td>\n",
       "      <td>1.000000</td>\n",
       "      <td>0.019095</td>\n",
       "    </tr>\n",
       "    <tr>\n",
       "      <th>Year</th>\n",
       "      <td>0.011885</td>\n",
       "      <td>-0.115137</td>\n",
       "      <td>0.047578</td>\n",
       "      <td>0.019095</td>\n",
       "      <td>1.000000</td>\n",
       "    </tr>\n",
       "  </tbody>\n",
       "</table>\n",
       "</div>"
      ],
      "text/plain": [
       "              ID       Age    Height    Weight      Year\n",
       "ID      1.000000 -0.003631 -0.011141 -0.009176  0.011885\n",
       "Age    -0.003631  1.000000  0.138246  0.212069 -0.115137\n",
       "Height -0.011141  0.138246  1.000000  0.796213  0.047578\n",
       "Weight -0.009176  0.212069  0.796213  1.000000  0.019095\n",
       "Year    0.011885 -0.115137  0.047578  0.019095  1.000000"
      ]
     },
     "execution_count": 21,
     "metadata": {},
     "output_type": "execute_result"
    }
   ],
   "source": [
    "olympic.corr()"
   ]
  },
  {
   "cell_type": "markdown",
   "metadata": {},
   "source": [
    "Height and weight have a moderate positive correlation. This shows that heavier athletes are also likely to be tall also."
   ]
  },
  {
   "cell_type": "markdown",
   "metadata": {},
   "source": [
    "3. Determine which independent variable in the dataset is the most important overall predictor for your chosen dependent (target) variable, then build a simple linear regression based on this predictor and evaluate the quality of your model. Explain why (or why not) it is acceptable to use this model to predict future values of your dependent variable."
   ]
  },
  {
   "cell_type": "markdown",
   "metadata": {},
   "source": [
    "The most important independent variable is the Age as athletes perform better and win most medals in their younger years"
   ]
  },
  {
   "cell_type": "code",
   "execution_count": 22,
   "metadata": {},
   "outputs": [
    {
     "name": "stdout",
     "output_type": "stream",
     "text": [
      "                            OLS Regression Results                            \n",
      "==============================================================================\n",
      "Dep. Variable:                  Medal   R-squared:                       0.001\n",
      "Model:                            OLS   Adj. R-squared:                  0.001\n",
      "Method:                 Least Squares   F-statistic:                     138.4\n",
      "Date:                Fri, 11 Feb 2022   Prob (F-statistic):           5.99e-32\n",
      "Time:                        17:12:52   Log-Likelihood:            -3.0484e+05\n",
      "No. Observations:              261642   AIC:                         6.097e+05\n",
      "Df Residuals:                  261640   BIC:                         6.097e+05\n",
      "Df Model:                           1                                         \n",
      "Covariance Type:            nonrobust                                         \n",
      "==============================================================================\n",
      "                 coef    std err          t      P>|t|      [0.025      0.975]\n",
      "------------------------------------------------------------------------------\n",
      "const         -0.7744      0.006   -123.906      0.000      -0.787      -0.762\n",
      "Age            0.0028      0.000     11.766      0.000       0.002       0.003\n",
      "==============================================================================\n",
      "Omnibus:                   132027.470   Durbin-Watson:                   1.737\n",
      "Prob(Omnibus):                  0.000   Jarque-Bera (JB):           610849.038\n",
      "Skew:                           2.584   Prob(JB):                         0.00\n",
      "Kurtosis:                       8.414   Cond. No.                         109.\n",
      "==============================================================================\n",
      "\n",
      "Notes:\n",
      "[1] Standard Errors assume that the covariance matrix of the errors is correctly specified.\n"
     ]
    }
   ],
   "source": [
    "olympic = olympic[olympic['Age'].notna()]\n",
    "olympic['Medal'] = pd.factorize(olympic['Medal'])[0]\n",
    "X = olympic['Age']\n",
    "y = olympic['Medal']\n",
    "X = sm.add_constant(X)\n",
    "olympic.mod1 = sm.OLS(y, X).fit()  ## sm.OLS(output, i.e. dependent variable, input, i.e. independent variable)\n",
    "olympic.mod1_summary = olympic.mod1.summary()\n",
    "print(olympic.mod1_summary)"
   ]
  },
  {
   "cell_type": "markdown",
   "metadata": {},
   "source": [
    "The p-value is 0.000 which shows that both chosen variables are dependant.  It is acceptable to use this model to predict future values of Medal awards, this is because R squared is at 0.1%."
   ]
  },
  {
   "cell_type": "markdown",
   "metadata": {},
   "source": [
    "4. Run a basic multiple regression and review the p-values for each variable. If any variables have p-values > 0.05, remove them because they are not statistically significant. Rerun the multiple regression until you can see which of the variables in your dataset should be combined to produce an optimal model. Then build and run your multiple regression model and test its quality. Explain how this model improves the output of the simple linear regression you ran previously."
   ]
  },
  {
   "cell_type": "code",
   "execution_count": 23,
   "metadata": {},
   "outputs": [
    {
     "name": "stdout",
     "output_type": "stream",
     "text": [
      "<class 'pandas.core.frame.DataFrame'>\n",
      "Int64Index: 261642 entries, 0 to 271115\n",
      "Data columns (total 15 columns):\n",
      " #   Column  Non-Null Count   Dtype  \n",
      "---  ------  --------------   -----  \n",
      " 0   ID      261642 non-null  int64  \n",
      " 1   Name    261642 non-null  object \n",
      " 2   Sex     261642 non-null  object \n",
      " 3   Age     261642 non-null  float64\n",
      " 4   Height  210068 non-null  float64\n",
      " 5   Weight  207379 non-null  float64\n",
      " 6   Team    261642 non-null  object \n",
      " 7   NOC     261642 non-null  object \n",
      " 8   Games   261642 non-null  object \n",
      " 9   Year    261642 non-null  int64  \n",
      " 10  Season  261642 non-null  object \n",
      " 11  City    261642 non-null  object \n",
      " 12  Sport   261642 non-null  object \n",
      " 13  Event   261642 non-null  object \n",
      " 14  Medal   261642 non-null  int32  \n",
      "dtypes: float64(3), int32(1), int64(2), object(9)\n",
      "memory usage: 22.0+ MB\n"
     ]
    }
   ],
   "source": [
    "olympic.info()"
   ]
  },
  {
   "cell_type": "code",
   "execution_count": 27,
   "metadata": {},
   "outputs": [
    {
     "name": "stdout",
     "output_type": "stream",
     "text": [
      "                            OLS Regression Results                            \n",
      "==============================================================================\n",
      "Dep. Variable:                      y   R-squared:                       0.024\n",
      "Model:                            OLS   Adj. R-squared:                  0.024\n",
      "Method:                 Least Squares   F-statistic:                     452.7\n",
      "Date:                Fri, 11 Feb 2022   Prob (F-statistic):               0.00\n",
      "Time:                        17:15:04   Log-Likelihood:            -3.0178e+05\n",
      "No. Observations:              261642   AIC:                         6.036e+05\n",
      "Df Residuals:                  261627   BIC:                         6.037e+05\n",
      "Df Model:                          14                                         \n",
      "Covariance Type:            nonrobust                                         \n",
      "==============================================================================\n",
      "                 coef    std err          t      P>|t|      [0.025      0.975]\n",
      "------------------------------------------------------------------------------\n",
      "const          5.7513      0.156     36.769      0.000       5.445       6.058\n",
      "x1           7.15e-07   4.88e-06      0.147      0.883   -8.84e-06    1.03e-05\n",
      "x2         -5.338e-07   5.15e-06     -0.104      0.917   -1.06e-05    9.55e-06\n",
      "x3             0.0952      0.004     24.117      0.000       0.087       0.103\n",
      "x4             0.0013      0.000      5.149      0.000       0.001       0.002\n",
      "x5            -0.0004   5.09e-05     -7.949      0.000      -0.001      -0.000\n",
      "x6             0.0034      0.000     29.586      0.000       0.003       0.004\n",
      "x7             0.0005   2.05e-05     25.261      0.000       0.000       0.001\n",
      "x8            -0.0019   4.08e-05    -45.748      0.000      -0.002      -0.002\n",
      "x9             0.0017      0.000      6.248      0.000       0.001       0.002\n",
      "x10           -0.0033   7.99e-05    -41.684      0.000      -0.003      -0.003\n",
      "x11           -0.0480      0.004    -12.163      0.000      -0.056      -0.040\n",
      "x12           -0.0039      0.000    -13.868      0.000      -0.004      -0.003\n",
      "x13            0.0032      0.000     22.637      0.000       0.003       0.003\n",
      "x14        -4.592e-05   1.12e-05     -4.108      0.000   -6.78e-05    -2.4e-05\n",
      "==============================================================================\n",
      "Omnibus:                   129382.029   Durbin-Watson:                   1.754\n",
      "Prob(Omnibus):                  0.000   Jarque-Bera (JB):           588847.031\n",
      "Skew:                           2.527   Prob(JB):                         0.00\n",
      "Kurtosis:                       8.336   Cond. No.                     1.13e+07\n",
      "==============================================================================\n",
      "\n",
      "Notes:\n",
      "[1] Standard Errors assume that the covariance matrix of the errors is correctly specified.\n",
      "[2] The condition number is large, 1.13e+07. This might indicate that there are\n",
      "strong multicollinearity or other numerical problems.\n"
     ]
    }
   ],
   "source": [
    "# storing only the factor levels array inplace of the object utilizing pandas factorize to utilize all the dataset variables \n",
    "\n",
    "olympic['Sex'] = pd.factorize(olympic['Sex'])[0]\n",
    "olympic['Name'] = pd.factorize(olympic['Name'])[0]\n",
    "olympic['Team'] = pd.factorize(olympic['Team'])[0]\n",
    "olympic['NOC'] = pd.factorize(olympic['NOC'])[0]\n",
    "olympic['Games'] = pd.factorize(olympic['Games'])[0]\n",
    "olympic['Season'] = pd.factorize(olympic['Season'])[0]\n",
    "olympic['City'] = pd.factorize(olympic['City'])[0]\n",
    "olympic['Sport'] = pd.factorize(olympic['Sport'])[0]\n",
    "olympic['Event'] = pd.factorize(olympic['Event'])[0]\n",
    "\n",
    "# multiple regression\n",
    "X = olympic.iloc[:, :-1].values\n",
    "y = olympic.iloc[:, 14].values\n",
    "X = np.nan_to_num(X)\n",
    "\n",
    "X = np.append(arr = np.ones((261642, 1)).astype(int), values = X, axis = 1) # We are building our numpy array\n",
    "\n",
    "X_opt = X[:, [0, 1, 2, 3, 4, 5, 6, 7, 8, 9, 10, 11, 12, 13, 14]] # Now we combine all 16 input variables into our first iteration\n",
    "regressor_OLS = sm.OLS(endog = y, exog = X_opt).fit() # Now we set up our regressor function with OLS again as before.\n",
    "print(regressor_OLS.summary())"
   ]
  },
  {
   "cell_type": "code",
   "execution_count": 29,
   "metadata": {},
   "outputs": [
    {
     "name": "stdout",
     "output_type": "stream",
     "text": [
      "                            OLS Regression Results                            \n",
      "==============================================================================\n",
      "Dep. Variable:                      y   R-squared:                       0.024\n",
      "Model:                            OLS   Adj. R-squared:                  0.023\n",
      "Method:                 Least Squares   F-statistic:                     525.6\n",
      "Date:                Fri, 11 Feb 2022   Prob (F-statistic):               0.00\n",
      "Time:                        17:16:08   Log-Likelihood:            -3.0179e+05\n",
      "No. Observations:              261642   AIC:                         6.036e+05\n",
      "Df Residuals:                  261629   BIC:                         6.037e+05\n",
      "Df Model:                          12                                         \n",
      "Covariance Type:            nonrobust                                         \n",
      "==============================================================================\n",
      "                 coef    std err          t      P>|t|      [0.025      0.975]\n",
      "------------------------------------------------------------------------------\n",
      "const          5.7702      0.156     36.898      0.000       5.464       6.077\n",
      "x1             0.0957      0.004     24.261      0.000       0.088       0.103\n",
      "x2             0.0013      0.000      5.148      0.000       0.001       0.002\n",
      "x3            -0.0004    5.1e-05     -7.966      0.000      -0.001      -0.000\n",
      "x4             0.0034      0.000     29.642      0.000       0.003       0.004\n",
      "x5             0.0005   2.05e-05     25.374      0.000       0.000       0.001\n",
      "x6            -0.0019   4.08e-05    -45.726      0.000      -0.002      -0.002\n",
      "x7             0.0016      0.000      6.222      0.000       0.001       0.002\n",
      "x8            -0.0033   7.99e-05    -41.718      0.000      -0.003      -0.003\n",
      "x9            -0.0477      0.004    -12.096      0.000      -0.055      -0.040\n",
      "x10           -0.0039      0.000    -13.843      0.000      -0.004      -0.003\n",
      "x11            0.0032      0.000     22.672      0.000       0.003       0.003\n",
      "x12        -4.565e-05   1.12e-05     -4.083      0.000   -6.76e-05   -2.37e-05\n",
      "==============================================================================\n",
      "Omnibus:                   129395.764   Durbin-Watson:                   1.754\n",
      "Prob(Omnibus):                  0.000   Jarque-Bera (JB):           588955.479\n",
      "Skew:                           2.527   Prob(JB):                         0.00\n",
      "Kurtosis:                       8.336   Cond. No.                     2.08e+05\n",
      "==============================================================================\n",
      "\n",
      "Notes:\n",
      "[1] Standard Errors assume that the covariance matrix of the errors is correctly specified.\n",
      "[2] The condition number is large, 2.08e+05. This might indicate that there are\n",
      "strong multicollinearity or other numerical problems.\n"
     ]
    }
   ],
   "source": [
    "# Removing where p-values > 0.05\n",
    "X_opt = X[:, [0, 3, 4, 5, 6, 7, 8, 9, 10, 11, 12, 13, 14]] # variables having p-values > 0.05 have been removed\n",
    "regressor_OLS = sm.OLS(endog = y, exog = X_opt).fit() # Now we set up our regressor function with OLS again as before.\n",
    "print(regressor_OLS.summary())"
   ]
  },
  {
   "cell_type": "code",
   "execution_count": 30,
   "metadata": {},
   "outputs": [
    {
     "name": "stdout",
     "output_type": "stream",
     "text": [
      "Model accuracy score: 2.35\n"
     ]
    }
   ],
   "source": [
    "# Train and Test Spliting and also Model testing\n",
    "from sklearn.model_selection import train_test_split\n",
    "\n",
    "from sklearn.linear_model import LinearRegression\n",
    "\n",
    "X_train, X_test, y_train, y_test = train_test_split(X_opt, y, test_size = 0.2, random_state = 0) \n",
    "\n",
    "regressor = LinearRegression()\n",
    "regressor.fit(X_train, y_train)\n",
    "\n",
    "print('Model accuracy score:', round(regressor.score(X_train,y_train)*100,2))"
   ]
  },
  {
   "cell_type": "markdown",
   "metadata": {},
   "source": [
    "Multiple regression improves the accuracy score of the model compared to a simple linear regression. The accuracy improved from 0.1 % to 2.35 % as it uses all the variables in the dataset."
   ]
  },
  {
   "cell_type": "markdown",
   "metadata": {},
   "source": [
    "5. Transform your dependent variable from question 1 into a binary shape. Build and run a logistic regression model and explain in AT LEAST two sentences how your output improves on the simple and multiple regression. Is the logistic model better or not as good?"
   ]
  },
  {
   "cell_type": "code",
   "execution_count": 31,
   "metadata": {},
   "outputs": [
    {
     "data": {
      "text/plain": [
       "array([-1,  0,  1,  2], dtype=int32)"
      ]
     },
     "execution_count": 31,
     "metadata": {},
     "output_type": "execute_result"
    }
   ],
   "source": [
    "# The Dependant variable convertion to a binary shape as used in the multiple linear regression.\n",
    "#Reading in the Olympic history: athletes and results  as olympic and results dataframe\n",
    "olympic = pd.read_csv('archive/athlete_events.csv')\n",
    "olympic['Medal'] = pd.factorize(olympic['Medal'])[0]\n",
    "olympic['Medal'].unique()\n"
   ]
  },
  {
   "cell_type": "code",
   "execution_count": 36,
   "metadata": {},
   "outputs": [
    {
     "data": {
      "text/plain": [
       "(271116, 15)"
      ]
     },
     "execution_count": 36,
     "metadata": {},
     "output_type": "execute_result"
    }
   ],
   "source": [
    "# storing only the factor levels array inplace of the object utilizing pandas factorize to utilize all the dataset variables \n",
    "\n",
    "olympic['Sex'] = pd.factorize(olympic['Sex'])[0]\n",
    "olympic['Name'] = pd.factorize(olympic['Name'])[0]\n",
    "olympic['Team'] = pd.factorize(olympic['Team'])[0]\n",
    "olympic['NOC'] = pd.factorize(olympic['NOC'])[0]\n",
    "olympic['Games'] = pd.factorize(olympic['Games'])[0]\n",
    "olympic['Season'] = pd.factorize(olympic['Season'])[0]\n",
    "olympic['City'] = pd.factorize(olympic['City'])[0]\n",
    "olympic['Sport'] = pd.factorize(olympic['Sport'])[0]\n",
    "olympic['Event'] = pd.factorize(olympic['Event'])[0]\n",
    "olympic['Age'] = np.nan_to_num(olympic['Age'])\n",
    "olympic['Age'] = olympic['Age'].astype('int32')\n",
    "olympic['Height'] = np.nan_to_num(olympic['Height'])\n",
    "olympic['Height'] = olympic['Height'].astype('int32')\n",
    "olympic['Weight'] = np.nan_to_num(olympic['Weight'])\n",
    "olympic['Weight'] = olympic['Weight'].astype('int32')\n",
    "olympic.shape"
   ]
  },
  {
   "cell_type": "code",
   "execution_count": 37,
   "metadata": {},
   "outputs": [
    {
     "name": "stdout",
     "output_type": "stream",
     "text": [
      "accuracy =  84.77142857142857 %\n"
     ]
    }
   ],
   "source": [
    "# Logistic regression Model.\n",
    "\n",
    "# Training and Test set\n",
    "dfTrain = olympic[:202000]\n",
    "dfTest = olympic[202000:205500]\n",
    "dfCheck = olympic[205500:]\n",
    "\n",
    "# Conversion to NumPy arrays\n",
    "train_y = np.asarray(dfTrain['Medal']) # We store target in train_y, but as numpy array\n",
    "train_x = np.asarray(dfTrain.drop('Medal',1)) # We remove target from the predictors (because it's the output variable)\n",
    "test_y = np.asarray(dfTest['Medal']) # See the comments above\n",
    "test_x = np.asarray(dfTest.drop('Medal',1))\n",
    "\n",
    "# input normalization.\n",
    "np.seterr(divide='ignore', invalid='ignore')\n",
    "means = np.mean(train_x, axis=0)\n",
    "std = np.std(train_x, axis=0)\n",
    "\n",
    "train_x = np.nan_to_num(train_x)\n",
    "train_x = (train_x - means)/std\n",
    "test_x = (test_x - means)/std\n",
    "\n",
    "# Building the Model\n",
    "from sklearn.linear_model import LogisticRegression\n",
    "\n",
    "model = LogisticRegression()\n",
    "model.fit(train_x, train_y)\n",
    "\n",
    "# Testing the Model\n",
    "test_x = np.nan_to_num(test_x)\n",
    "accuracy = model.score(test_x, test_y)\n",
    "print(\"accuracy = \", accuracy * 100, \"%\")"
   ]
  },
  {
   "cell_type": "markdown",
   "metadata": {},
   "source": [
    "When compared to linear regression, the model accuracy has increased dramatically from 2.35 percent to 84.77142857142857 percent. Logistic regression outperforms linear regression by a wide margin."
   ]
  },
  {
   "cell_type": "code",
   "execution_count": null,
   "metadata": {},
   "outputs": [],
   "source": []
  }
 ],
 "metadata": {
  "kernelspec": {
   "display_name": "Python 3",
   "language": "python",
   "name": "python3"
  },
  "language_info": {
   "codemirror_mode": {
    "name": "ipython",
    "version": 3
   },
   "file_extension": ".py",
   "mimetype": "text/x-python",
   "name": "python",
   "nbconvert_exporter": "python",
   "pygments_lexer": "ipython3",
   "version": "3.8.4"
  }
 },
 "nbformat": 4,
 "nbformat_minor": 4
}
